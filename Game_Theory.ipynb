{
  "nbformat": 4,
  "nbformat_minor": 0,
  "metadata": {
    "colab": {
      "provenance": []
    },
    "kernelspec": {
      "name": "python3",
      "display_name": "Python 3"
    },
    "language_info": {
      "name": "python"
    }
  },
  "cells": [
    {
      "cell_type": "markdown",
      "source": [
        "Let us play a game,shall we?"
      ],
      "metadata": {
        "id": "A3l-k0Nx6Lf9"
      }
    },
    {
      "cell_type": "code",
      "execution_count": null,
      "metadata": {
        "id": "SwOoKcXd5Xmx"
      },
      "outputs": [],
      "source": [
        "#Character Names\n",
        "# Tit-for-Tat done\n",
        "# Generous tit for tat(default 90%) done\n",
        "# Alway cooperate done\n",
        "# Always defect done\n",
        "# Friedman-if oppenent defects once-keep defecting indefinitely done\n",
        "# Joss-Starts by cooperating-but copies what opponent did in the last move-but 10% of time-joss gets sneaky and defects done\n",
        "# Tit for two tats\n",
        "# Tester-Defects first try then cooperates-if opponent defects on next try it apologizes and plays tit for tat for the rest of the game,else tester defects every other move after that"
      ]
    },
    {
      "cell_type": "code",
      "source": [
        "import random"
      ],
      "metadata": {
        "id": "aqOZ4ZvlB_BI"
      },
      "execution_count": 1,
      "outputs": []
    },
    {
      "cell_type": "markdown",
      "source": [
        "Tit For Tat"
      ],
      "metadata": {
        "id": "bVoxJbsy7XfO"
      }
    },
    {
      "cell_type": "code",
      "source": [
        "def TitForTat(arr1,arr2,index):\n",
        "  if(index==0):\n",
        "    arr1[index]=1\n",
        "  else:\n",
        "    if(arr2[-1]==1):\n",
        "      arr1[index]=1\n",
        "    else:\n",
        "      arr1[index]=0\n",
        "  return arr1\n",
        "\n",
        "\n"
      ],
      "metadata": {
        "id": "9rRuOj3A6d0c"
      },
      "execution_count": 2,
      "outputs": []
    },
    {
      "cell_type": "markdown",
      "source": [
        "Always Cooperate"
      ],
      "metadata": {
        "id": "mN_fIB3jCa_Z"
      }
    },
    {
      "cell_type": "code",
      "source": [
        "def AlwaysCooperate(arr1,arr2,index):\n",
        "  arr1[index]=1\n",
        "  return arr1"
      ],
      "metadata": {
        "id": "leYwVv_e7VOF"
      },
      "execution_count": 3,
      "outputs": []
    },
    {
      "cell_type": "markdown",
      "source": [
        "Always Defect"
      ],
      "metadata": {
        "id": "BLKNpjuZChUp"
      }
    },
    {
      "cell_type": "code",
      "source": [
        "def AlwaysDefect(arr1,arr2,index):\n",
        "  arr1[index]=0\n",
        "  return arr1"
      ],
      "metadata": {
        "id": "ZrzQ_Fmg7iXg"
      },
      "execution_count": 4,
      "outputs": []
    },
    {
      "cell_type": "markdown",
      "source": [
        "Friedman\n"
      ],
      "metadata": {
        "id": "-LHvG3MVCjyw"
      }
    },
    {
      "cell_type": "code",
      "source": [
        "def Friedman(arr1,arr2,index):\n",
        "  if(index==0):\n",
        "    arr1[index]=1\n",
        "  else:\n",
        "    if(0 in arr2):\n",
        "      arr1[index]=0\n",
        "    else:\n",
        "      arr1[index]=1\n",
        "  return arr1"
      ],
      "metadata": {
        "id": "nYfNWENA73Dw"
      },
      "execution_count": 5,
      "outputs": []
    },
    {
      "cell_type": "markdown",
      "source": [
        "Joss"
      ],
      "metadata": {
        "id": "sNLMrTvyClL8"
      }
    },
    {
      "cell_type": "code",
      "source": [
        "def Joss(arr1, arr2, index):\n",
        "\n",
        "    if index == 1:\n",
        "\n",
        "        arr1.append(1)\n",
        "    else:\n",
        "\n",
        "        if random.random() < 0.9:\n",
        "            arr1.append(arr2[-1])\n",
        "        else:\n",
        "\n",
        "            arr1.append(0)\n",
        "    return arr1\n",
        ""
      ],
      "metadata": {
        "id": "xasMfEK7AvB_"
      },
      "execution_count": 6,
      "outputs": []
    },
    {
      "cell_type": "markdown",
      "source": [
        "Generous T4T"
      ],
      "metadata": {
        "id": "HaqOKcBcCnTk"
      }
    },
    {
      "cell_type": "code",
      "source": [
        "def generous_tit_for_tat(arr1, arr2, index):\n",
        "\n",
        "    if index == 0:\n",
        "        # Start by cooperating\n",
        "        arr1.append(1)\n",
        "    else:\n",
        "        opponent_last_move = arr2[-1]\n",
        "        if opponent_last_move == 0:\n",
        "\n",
        "            if random.random() < 0.9:\n",
        "                arr1.append(0)\n",
        "            else:\n",
        "                arr1.append(1)\n",
        "        else:\n",
        "\n",
        "            arr1.append(1)"
      ],
      "metadata": {
        "id": "cJKr0VyjCA28"
      },
      "execution_count": 7,
      "outputs": []
    },
    {
      "cell_type": "markdown",
      "source": [
        "T42T"
      ],
      "metadata": {
        "id": "00Uh5oJOCpGE"
      }
    },
    {
      "cell_type": "code",
      "source": [
        "def tit_for_two_tats(arr1, arr2, index):\n",
        "    if index == 0:\n",
        "        arr1.append(1)\n",
        "    elif index == 1:\n",
        "        arr1.append(1 if arr2[-1] == 1 else 0)\n",
        "    else:\n",
        "        if arr2[-1] == 0 and arr2[-2] == 0:\n",
        "            arr1.append(0)\n",
        "        else:\n",
        "            arr1.append(1)\n",
        "    return arr1\n"
      ],
      "metadata": {
        "id": "CcRnOAFDCZcx"
      },
      "execution_count": 8,
      "outputs": []
    },
    {
      "cell_type": "markdown",
      "source": [
        "Tester-Nasty"
      ],
      "metadata": {
        "id": "4D7upiT2DWU0"
      }
    },
    {
      "cell_type": "code",
      "source": [
        "def tester_strategy(arr1, arr2, index):\n",
        "    if index == 0:\n",
        "        arr1.append(0)\n",
        "    elif index == 1:\n",
        "        arr1.append(1)\n",
        "    elif index == 2:\n",
        "        arr1.append(1 if arr2[-1] == 0 else arr2[-1])\n",
        "    else:\n",
        "        if arr2[-1] == 0:\n",
        "            arr1.append(1)\n",
        "        else:\n",
        "            arr1.append(0 if index % 2 == 0 else 1)\n",
        "    return arr1\n"
      ],
      "metadata": {
        "id": "1dzVjck1DV0N"
      },
      "execution_count": 9,
      "outputs": []
    },
    {
      "cell_type": "code",
      "source": [
        "def play_strategies(strategy1, strategy2, rounds):\n",
        "    arr1 = []\n",
        "    arr2 = []\n",
        "\n",
        "    for i in range(rounds):\n",
        "        strategy1(arr1, arr2, i)\n",
        "        strategy2(arr2, arr1, i)\n",
        "\n",
        "    score1 = 0\n",
        "    score2 = 0\n",
        "\n",
        "    for move1, move2 in zip(arr1, arr2):\n",
        "        if move1 == 1 and move2 == 1:\n",
        "            score1 += 3\n",
        "            score2 += 3\n",
        "        elif move1 == 0 and move2 == 0:\n",
        "            score1 += 1\n",
        "            score2 += 1\n",
        "        elif move1 == 1 and move2 == 0:\n",
        "            score2 += 5\n",
        "        elif move1 == 0 and move2 == 1:\n",
        "            score1 += 5\n",
        "\n",
        "    return score1, score2"
      ],
      "metadata": {
        "id": "MdNKWCtZEvrD"
      },
      "execution_count": 10,
      "outputs": []
    },
    {
      "cell_type": "code",
      "source": [
        "strategy1 = TitForTat\n",
        "strategy2 = TitForTat\n",
        "rounds = 50\n",
        "\n",
        "score1, score2 = play_strategies(strategy1, strategy2, rounds)\n",
        "\n",
        "print(\"Score for Statergy 1 is\",score1)\n",
        "print(\"Score for Statergy 2 is\",score2)"
      ],
      "metadata": {
        "colab": {
          "base_uri": "https://localhost:8080/",
          "height": 356
        },
        "id": "ObhuVZGXFHh6",
        "outputId": "80814c94-e0e6-498d-be72-5d65ed43ae2c"
      },
      "execution_count": 11,
      "outputs": [
        {
          "output_type": "error",
          "ename": "IndexError",
          "evalue": "list assignment index out of range",
          "traceback": [
            "\u001b[0;31m---------------------------------------------------------------------------\u001b[0m",
            "\u001b[0;31mIndexError\u001b[0m                                Traceback (most recent call last)",
            "\u001b[0;32m<ipython-input-11-5030c5698a62>\u001b[0m in \u001b[0;36m<cell line: 5>\u001b[0;34m()\u001b[0m\n\u001b[1;32m      3\u001b[0m \u001b[0mrounds\u001b[0m \u001b[0;34m=\u001b[0m \u001b[0;36m50\u001b[0m\u001b[0;34m\u001b[0m\u001b[0;34m\u001b[0m\u001b[0m\n\u001b[1;32m      4\u001b[0m \u001b[0;34m\u001b[0m\u001b[0m\n\u001b[0;32m----> 5\u001b[0;31m \u001b[0mscore1\u001b[0m\u001b[0;34m,\u001b[0m \u001b[0mscore2\u001b[0m \u001b[0;34m=\u001b[0m \u001b[0mplay_strategies\u001b[0m\u001b[0;34m(\u001b[0m\u001b[0mstrategy1\u001b[0m\u001b[0;34m,\u001b[0m \u001b[0mstrategy2\u001b[0m\u001b[0;34m,\u001b[0m \u001b[0mrounds\u001b[0m\u001b[0;34m)\u001b[0m\u001b[0;34m\u001b[0m\u001b[0;34m\u001b[0m\u001b[0m\n\u001b[0m\u001b[1;32m      6\u001b[0m \u001b[0;34m\u001b[0m\u001b[0m\n\u001b[1;32m      7\u001b[0m \u001b[0mprint\u001b[0m\u001b[0;34m(\u001b[0m\u001b[0;34m\"Score for Statergy 1 is\"\u001b[0m\u001b[0;34m,\u001b[0m\u001b[0mscore1\u001b[0m\u001b[0;34m)\u001b[0m\u001b[0;34m\u001b[0m\u001b[0;34m\u001b[0m\u001b[0m\n",
            "\u001b[0;32m<ipython-input-10-acfe51287c26>\u001b[0m in \u001b[0;36mplay_strategies\u001b[0;34m(strategy1, strategy2, rounds)\u001b[0m\n\u001b[1;32m      4\u001b[0m \u001b[0;34m\u001b[0m\u001b[0m\n\u001b[1;32m      5\u001b[0m     \u001b[0;32mfor\u001b[0m \u001b[0mi\u001b[0m \u001b[0;32min\u001b[0m \u001b[0mrange\u001b[0m\u001b[0;34m(\u001b[0m\u001b[0mrounds\u001b[0m\u001b[0;34m)\u001b[0m\u001b[0;34m:\u001b[0m\u001b[0;34m\u001b[0m\u001b[0;34m\u001b[0m\u001b[0m\n\u001b[0;32m----> 6\u001b[0;31m         \u001b[0mstrategy1\u001b[0m\u001b[0;34m(\u001b[0m\u001b[0marr1\u001b[0m\u001b[0;34m,\u001b[0m \u001b[0marr2\u001b[0m\u001b[0;34m,\u001b[0m \u001b[0mi\u001b[0m\u001b[0;34m)\u001b[0m\u001b[0;34m\u001b[0m\u001b[0;34m\u001b[0m\u001b[0m\n\u001b[0m\u001b[1;32m      7\u001b[0m         \u001b[0mstrategy2\u001b[0m\u001b[0;34m(\u001b[0m\u001b[0marr2\u001b[0m\u001b[0;34m,\u001b[0m \u001b[0marr1\u001b[0m\u001b[0;34m,\u001b[0m \u001b[0mi\u001b[0m\u001b[0;34m)\u001b[0m\u001b[0;34m\u001b[0m\u001b[0;34m\u001b[0m\u001b[0m\n\u001b[1;32m      8\u001b[0m \u001b[0;34m\u001b[0m\u001b[0m\n",
            "\u001b[0;32m<ipython-input-2-a12b09d0e3e5>\u001b[0m in \u001b[0;36mTitForTat\u001b[0;34m(arr1, arr2, index)\u001b[0m\n\u001b[1;32m      1\u001b[0m \u001b[0;32mdef\u001b[0m \u001b[0mTitForTat\u001b[0m\u001b[0;34m(\u001b[0m\u001b[0marr1\u001b[0m\u001b[0;34m,\u001b[0m\u001b[0marr2\u001b[0m\u001b[0;34m,\u001b[0m\u001b[0mindex\u001b[0m\u001b[0;34m)\u001b[0m\u001b[0;34m:\u001b[0m\u001b[0;34m\u001b[0m\u001b[0;34m\u001b[0m\u001b[0m\n\u001b[1;32m      2\u001b[0m   \u001b[0;32mif\u001b[0m\u001b[0;34m(\u001b[0m\u001b[0mindex\u001b[0m\u001b[0;34m==\u001b[0m\u001b[0;36m0\u001b[0m\u001b[0;34m)\u001b[0m\u001b[0;34m:\u001b[0m\u001b[0;34m\u001b[0m\u001b[0;34m\u001b[0m\u001b[0m\n\u001b[0;32m----> 3\u001b[0;31m     \u001b[0marr1\u001b[0m\u001b[0;34m[\u001b[0m\u001b[0mindex\u001b[0m\u001b[0;34m]\u001b[0m\u001b[0;34m=\u001b[0m\u001b[0;36m1\u001b[0m\u001b[0;34m\u001b[0m\u001b[0;34m\u001b[0m\u001b[0m\n\u001b[0m\u001b[1;32m      4\u001b[0m   \u001b[0;32melse\u001b[0m\u001b[0;34m:\u001b[0m\u001b[0;34m\u001b[0m\u001b[0;34m\u001b[0m\u001b[0m\n\u001b[1;32m      5\u001b[0m     \u001b[0;32mif\u001b[0m\u001b[0;34m(\u001b[0m\u001b[0marr2\u001b[0m\u001b[0;34m[\u001b[0m\u001b[0;34m-\u001b[0m\u001b[0;36m1\u001b[0m\u001b[0;34m]\u001b[0m\u001b[0;34m==\u001b[0m\u001b[0;36m1\u001b[0m\u001b[0;34m)\u001b[0m\u001b[0;34m:\u001b[0m\u001b[0;34m\u001b[0m\u001b[0;34m\u001b[0m\u001b[0m\n",
            "\u001b[0;31mIndexError\u001b[0m: list assignment index out of range"
          ]
        }
      ]
    },
    {
      "cell_type": "code",
      "source": [],
      "metadata": {
        "id": "k99x92vpFSOa"
      },
      "execution_count": null,
      "outputs": []
    }
  ]
}